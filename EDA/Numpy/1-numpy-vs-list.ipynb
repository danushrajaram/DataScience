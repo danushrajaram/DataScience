{
 "cells": [
  {
   "cell_type": "markdown",
   "metadata": {},
   "source": [
    "### 1. Introduction | NumPy Array vs Python List"
   ]
  },
  {
   "cell_type": "code",
   "execution_count": 1,
   "metadata": {},
   "outputs": [],
   "source": [
    "import numpy as np\n",
    "import time \n",
    "import sys"
   ]
  },
  {
   "cell_type": "code",
   "execution_count": 2,
   "metadata": {},
   "outputs": [
    {
     "data": {
      "text/plain": [
       "array([1, 2, 3])"
      ]
     },
     "execution_count": 2,
     "metadata": {},
     "output_type": "execute_result"
    }
   ],
   "source": [
    "a=np.array([1,2,3])\n",
    "a"
   ]
  },
  {
   "cell_type": "markdown",
   "metadata": {},
   "source": [
    "Benefit 1- \n",
    "          array takes lees space when compared with list"
   ]
  },
  {
   "cell_type": "code",
   "execution_count": 3,
   "metadata": {},
   "outputs": [
    {
     "name": "stdout",
     "output_type": "stream",
     "text": [
      "list size: 28000\n",
      "array size: 4000\n"
     ]
    }
   ],
   "source": [
    "# the size of 1 python integer is 28 bytes in a 64bit computer\n",
    "list1 = range(1000)\n",
    "list_size = (len(list1)*sys.getsizeof(4)) # len(list1) gives 1000, size of 4 gives size of a element at 4th positin\n",
    "print(f\"list size: {list_size}\")\n",
    "\n",
    "# the size of 1 numpy array object id 4 (for int)\n",
    "array = np.arange(1000)\n",
    "array_size = (array.size*array.itemsize) # array size gives 1000, array.itemsize give size of a single element\n",
    "print(f\"array size: {array_size}\")"
   ]
  },
  {
   "cell_type": "markdown",
   "metadata": {},
   "source": [
    "Benefit 2- fast and convenient"
   ]
  },
  {
   "cell_type": "code",
   "execution_count": 4,
   "metadata": {},
   "outputs": [
    {
     "name": "stdout",
     "output_type": "stream",
     "text": [
      "python list took: 107.1474552154541\n",
      "numpy array took: 15.386343002319336\n"
     ]
    }
   ],
   "source": [
    "SIZE = 1000000\n",
    "\n",
    "l1 = range(SIZE)\n",
    "l2 = range(SIZE)\n",
    "\n",
    "a1=np.arange(SIZE)\n",
    "a2=np.arange(SIZE)\n",
    "\n",
    "# python list time\n",
    "start=time.time()   # capturing time here\n",
    "result = [(x+y) for x,y in zip(l1,l2)]\n",
    "print (f\"python list took: {(time.time()-start)*1000}\")\n",
    "\\\n",
    "# numpy array time\n",
    "start=time.time()   # capturing time one more time\n",
    "result = a1+a2      # convenient\n",
    "print (f\"numpy array took: {(time.time()-start)*1000}\")"
   ]
  }
 ],
 "metadata": {
  "kernelspec": {
   "display_name": "Python 3",
   "language": "python",
   "name": "python3"
  },
  "language_info": {
   "codemirror_mode": {
    "name": "ipython",
    "version": 3
   },
   "file_extension": ".py",
   "mimetype": "text/x-python",
   "name": "python",
   "nbconvert_exporter": "python",
   "pygments_lexer": "ipython3",
   "version": "3.8.0"
  }
 },
 "nbformat": 4,
 "nbformat_minor": 2
}
